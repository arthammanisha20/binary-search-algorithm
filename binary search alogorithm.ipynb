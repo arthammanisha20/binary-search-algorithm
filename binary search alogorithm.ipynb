{
 "cells": [
  {
   "cell_type": "code",
   "execution_count": 1,
   "id": "88b08657",
   "metadata": {},
   "outputs": [
    {
     "name": "stdout",
     "output_type": "stream",
     "text": [
      "[10, 12, 14, 16, 18, 20, 22, 24, 26, 28, 30, 32, 34, 36, 38, 40]\n"
     ]
    }
   ],
   "source": [
    "def generate_range(start, end, step=2):\n",
    "    if start > end or step <= 0:\n",
    "        return []\n",
    "    \n",
    "    result = []\n",
    "    current = start\n",
    "    while current <= end:\n",
    "        result.append(current)\n",
    "        current += step\n",
    "    \n",
    "    return result\n",
    "\n",
    "start = 10\n",
    "end = 40\n",
    "step = 2\n",
    "result_range = generate_range(start, end, step)\n",
    "print(result_range)\n"
   ]
  },
  {
   "cell_type": "code",
   "execution_count": null,
   "id": "5f328bd6",
   "metadata": {},
   "outputs": [],
   "source": []
  }
 ],
 "metadata": {
  "kernelspec": {
   "display_name": "Python 3 (ipykernel)",
   "language": "python",
   "name": "python3"
  },
  "language_info": {
   "codemirror_mode": {
    "name": "ipython",
    "version": 3
   },
   "file_extension": ".py",
   "mimetype": "text/x-python",
   "name": "python",
   "nbconvert_exporter": "python",
   "pygments_lexer": "ipython3",
   "version": "3.11.5"
  }
 },
 "nbformat": 4,
 "nbformat_minor": 5
}
